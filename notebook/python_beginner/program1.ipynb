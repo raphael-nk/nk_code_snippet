{
 "cells": [
  {
   "cell_type": "markdown",
   "metadata": {},
   "source": [
    "### **PYTHON PROGRAMS FOR BEGINNER**"
   ]
  },
  {
   "cell_type": "code",
   "execution_count": null,
   "metadata": {},
   "outputs": [],
   "source": [
    "# Hello World  \n",
    "print(\"Hello World\")"
   ]
  },
  {
   "cell_type": "code",
   "execution_count": null,
   "metadata": {},
   "outputs": [],
   "source": [
    "# Simple Operation\n",
    "a = int(input(\"a = \"))\n",
    "b = int(input(\"b = \"))\n",
    "sum = a + b\n",
    "substract = a - b\n",
    "product = a * b\n",
    "divide = a / b\n",
    "modulo = a % b\n",
    "\n",
    "# --- Display result \n",
    "print(f\"{a} + {b} = {sum}\")                     # Display variable using f-string\n",
    "print(str(a)+\" - \"+str(b)+\" = \"+str(substract)) # Display variable using concatenation ( + )\n",
    "print(\"%d * %d = %d\" % (a,b,product))           # Display variable using format with %\n",
    "print(\"{} / {} = {}\".format(a,b,divide))        # Display variable using format with {}\n",
    "print(\"Modulo =\", modulo)"
   ]
  },
  {
   "cell_type": "markdown",
   "metadata": {},
   "source": [
    "**Factorial Number**\n",
    "- The factorial of a number n, denoted as `n!`, is the product of all positive integers less than or equal to n\n",
    "- `n! = n×(n−1)×(n−2)×⋯×1`"
   ]
  },
  {
   "cell_type": "code",
   "execution_count": null,
   "metadata": {},
   "outputs": [],
   "source": [
    "# Factorial \n",
    "def factorial(n):\n",
    "    if n == 0 or n == 1:\n",
    "        return 1\n",
    "    return n * factorial(n-1)\n",
    "    \n",
    "# use case\n",
    "n = int(input(\"Enter a number: \"))\n",
    "print(\"Factorial of\", n, \"is\", factorial(n))"
   ]
  },
  {
   "cell_type": "markdown",
   "metadata": {},
   "source": [
    "**Fibonacci Number**\n",
    "- The Fibonacci sequence is a series of numbers where each number is the sum of the two preceding ones, starting with 0 and 1\n",
    "- `F(n)=F(n−1)+F(n−2)whereF(0)=0,F(1)=1`"
   ]
  },
  {
   "cell_type": "code",
   "execution_count": null,
   "metadata": {},
   "outputs": [],
   "source": [
    "# Fibonacci sequence\n",
    "def fibonacci(n):\n",
    "    if n == 0 or n == 1:\n",
    "        return 1\n",
    "    else:\n",
    "        return fibonacci(n-1) + fibonacci(n-2)\n",
    "    \n",
    "# use case\n",
    "n = int(input(\"Enter a number: \"))\n",
    "print(\"Fibonacci sequence:\")\n",
    "for i in range(n):\n",
    "    print(fibonacci(i))"
   ]
  },
  {
   "cell_type": "markdown",
   "metadata": {},
   "source": [
    "**Prime Number**\n",
    "- A prime number is a number greater than 1 that has no divisors other than 1 and itself"
   ]
  },
  {
   "cell_type": "code",
   "execution_count": null,
   "metadata": {},
   "outputs": [],
   "source": [
    "# Check for Prime Number\n",
    "def is_prime(n):\n",
    "    if n <= 1:\n",
    "        return False\n",
    "    for i in range(2, int(n**0.5) + 1):\n",
    "        if n % i == 0:\n",
    "            return False\n",
    "    return True\n",
    "\n",
    "# use case\n",
    "n = int(input(\"Enter a number: \"))\n",
    "if is_prime(n):\n",
    "    print(n, \"is a prime number\")\n",
    "else:\n",
    "    print(n, \"is not a prime number\")"
   ]
  },
  {
   "cell_type": "markdown",
   "metadata": {},
   "source": [
    "**Even or Odd Number**\n",
    "- If a number is divisible by 2, so it's an `even` number, else it's an `odd` number\n",
    "- If `n%2==0` then n is `even`, else `odd`"
   ]
  },
  {
   "cell_type": "code",
   "execution_count": null,
   "metadata": {},
   "outputs": [],
   "source": [
    "# Even or Odd number\n",
    "def is_even(n):\n",
    "    return n % 2 == 0\n",
    "\n",
    "# use case\n",
    "n = int(input(\"Enter a number: \"))\n",
    "if is_even(n):\n",
    "    print(n, \"is even\")\n",
    "else:\n",
    "    print(n, \"is odd\")"
   ]
  },
  {
   "cell_type": "markdown",
   "metadata": {},
   "source": [
    "**Interest Operation**\n",
    "- A financial calculation used to determine the amount earned or paid on interest.\n",
    "- `SI = (P x R x T) / 100`\n",
    "    - `P = Principal Amount`\n",
    "    - `R = Rate of Interest`\n",
    "    - `T = Time Period`\n"
   ]
  },
  {
   "cell_type": "code",
   "execution_count": null,
   "metadata": {},
   "outputs": [],
   "source": [
    "# Interest Operation \n",
    "def interest(p, r, t):\n",
    "    return (p * r * t) / 100\n",
    "\n",
    "# use case\n",
    "p = int(input(\"Enter principal amount: \"))\n",
    "r = int(input(\"Enter rate of interest: \"))\n",
    "t = int(input(\"Enter time period: \"))\n",
    "print(\"Interest =\", interest(p, r, t))"
   ]
  },
  {
   "cell_type": "code",
   "execution_count": null,
   "metadata": {},
   "outputs": [],
   "source": [
    "# Area of a circle \n",
    "from math import pi\n",
    "\n",
    "def area(r):\n",
    "    return pi * r**2"
   ]
  },
  {
   "cell_type": "code",
   "execution_count": null,
   "metadata": {},
   "outputs": [],
   "source": [
    "# Create a list comprehension \n",
    "squares = [x**2 for x in range(1, 11)]\n",
    "print(squares)"
   ]
  },
  {
   "cell_type": "code",
   "execution_count": null,
   "metadata": {},
   "outputs": [],
   "source": [
    "# File read/write \n",
    "# read\n",
    "with open(\"assets/example.txt\", \"r\") as file:\n",
    "    content = file.read()\n",
    "    print(content)\n",
    "    \n",
    "# append content\n",
    "with open(\"assets/example.txt\", \"a\") as file:\n",
    "    file.write(\"\\nThis is a new line\")\n",
    "\n",
    "# write \n",
    "with open(\"assets/example.txt\", \"w\") as file:\n",
    "    file.write(\"This is a new line\")\n",
    "\n",
    "# read \n",
    "with open(\"assets/example.txt\", \"r\") as file:\n",
    "    content = file.read()\n",
    "    print(content)"
   ]
  },
  {
   "cell_type": "markdown",
   "metadata": {},
   "source": [
    "**Palindrome**\n",
    "- A string or number that reads the same backward as forward."
   ]
  },
  {
   "cell_type": "code",
   "execution_count": null,
   "metadata": {},
   "outputs": [],
   "source": [
    "# Palindrome number\n",
    "def is_palindrome(n):\n",
    "    return str(n) == str(n)[::-1]\n",
    "    \n",
    "# use case\n",
    "n = int(input(\"Enter a number: \"))  \n",
    "if is_palindrome(n):\n",
    "    print(n, \"is a palindrome number\")\n",
    "else:\n",
    "    print(n, \"is not a palindrome number\")"
   ]
  },
  {
   "cell_type": "code",
   "execution_count": null,
   "metadata": {},
   "outputs": [],
   "source": [
    "# Largest Among 3 numbers\n",
    "def largest(n1, n2, n3):\n",
    "    if n1 >= n2 and n1 >= n3:\n",
    "        return n1\n",
    "    elif n2 >= n1 and n2 >= n3:\n",
    "        return n2\n",
    "    else:\n",
    "        return n3\n",
    "\n",
    "# Alternative \n",
    "def largest(n1, n2, n3):\n",
    "    return max(n1, n2, n3)\n",
    "\n",
    "# use case\n",
    "n1 = int(input(\"Enter first number: \"))\n",
    "n2 = int(input(\"Enter second number: \"))\n",
    "n3 = int(input(\"Enter third number: \"))\n",
    "print(\"Largest number is\", largest(n1, n2, n3))"
   ]
  },
  {
   "cell_type": "code",
   "execution_count": null,
   "metadata": {},
   "outputs": [],
   "source": [
    "# Multiplication table \n",
    "def multiplication_table(n):\n",
    "    for i in range(1, 13):\n",
    "        print(f'{n} x {i} = {n*i}')\n",
    "        \n",
    "# use case\n",
    "n = int(input(\"Enter a number: \"))\n",
    "multiplication_table(n)"
   ]
  },
  {
   "cell_type": "code",
   "execution_count": null,
   "metadata": {},
   "outputs": [],
   "source": [
    "# Convert Celcius to Fahrenheit\n",
    "def celcius_to_fahrenheit(c):\n",
    "    return (c * 9/5) + 32\n",
    "\n",
    "# use case\n",
    "c = int(input(\"Enter temperature in Celcius: \"))\n",
    "print(\"Temperature in Fahrenheit =\", celcius_to_fahrenheit(c))"
   ]
  },
  {
   "cell_type": "code",
   "execution_count": null,
   "metadata": {},
   "outputs": [],
   "source": [
    "# String Operation \n",
    "s = input(\"Enter a string: \")\n",
    "print(\"Length of the string:\", len(s))\n",
    "print(\"Reverse of the string:\", s[::-1])\n",
    "print(\"Uppercase of the string:\", s.upper())\n",
    "print(\"Lowercase of the string:\", s.lower())"
   ]
  },
  {
   "cell_type": "markdown",
   "metadata": {},
   "source": [
    "**Bubble Sort**\n",
    "- A simple sorting algorithm that repeatedly steps through the list, compares adjacent elements, and swaps them if they are in the wrong order."
   ]
  },
  {
   "cell_type": "code",
   "execution_count": null,
   "metadata": {},
   "outputs": [],
   "source": [
    "# Bubble Sort Algorithm \n",
    "def bubble_sort(arr):\n",
    "    n = len(arr)\n",
    "    for i in range(n - 1):\n",
    "        for j in range(0, n-i-1):\n",
    "            if arr[j] > arr[j+1]: \n",
    "                arr[j], arr[j+1] = arr[j+1], arr[j]\n",
    "\n",
    "# Use case \n",
    "arr = [10, 89, 64, 2, 62, 65, 95, 11, 45]\n",
    "bubble_sort(arr)\n",
    "print(arr)"
   ]
  },
  {
   "cell_type": "markdown",
   "metadata": {},
   "source": [
    "**Leap Year**\n",
    "- A year is a leap year if it is divisible by 4, but years divisible by 100 are not leap years, except if they are also divisible by 400."
   ]
  },
  {
   "cell_type": "code",
   "execution_count": null,
   "metadata": {},
   "outputs": [],
   "source": [
    "# Check Leap Year \n",
    "def is_leap_year(year):\n",
    "    return ((year % 4 == 0) and (year % 100 != 0)) or (year % 400 == 0)\n",
    "\n",
    "# Use case \n",
    "year = int(input('Enter a year = '))\n",
    "if is_leap_year(year):\n",
    "    print(f'{year} is a leap year')\n",
    "else: \n",
    "    print(f'{year} is not a leap year')"
   ]
  },
  {
   "cell_type": "code",
   "execution_count": null,
   "metadata": {},
   "outputs": [],
   "source": [
    "# Count vowels in a string \n",
    "def count_vowels(str_): \n",
    "    vowels = 'aeiouAEIOU'\n",
    "    nb_vowel = 0\n",
    "    for vowel in str_:\n",
    "        if vowel in vowels:\n",
    "            nb_vowel += 1\n",
    "    return nb_vowel\n",
    "\n",
    "# Use case \n",
    "str_ = input('Enter words or sentence = ')\n",
    "count_vowels(str_)"
   ]
  },
  {
   "cell_type": "markdown",
   "metadata": {},
   "source": [
    "**Least Common Multiple**\n",
    "- The least common multiple (LCM) of two numbers is the smallest positive number that is divisible by both of them.\n",
    "- `lcm(a, b) = (a * b) / gcd(a, b)` where gcd(a, b) is the greatest common divisor of a and b"
   ]
  },
  {
   "cell_type": "code",
   "execution_count": null,
   "metadata": {},
   "outputs": [],
   "source": [
    "# Find LCM of 2 numbers \n",
    "from math import gcd\n",
    "def lcm_1(a, b):\n",
    "    return abs(a * b) // gcd(a, b)\n",
    "\n",
    "def lcm_2(x, y): \n",
    "    greater = x if x > y else y\n",
    "    while True: \n",
    "        if (greater % x == 0) and (greater % y == 0): \n",
    "            lmc = greater\n",
    "            break\n",
    "        greater += 1\n",
    "        \n",
    "    return lmc\n",
    "\n",
    "# Use case\n",
    "x = int(input('X = '))\n",
    "y = int(input('y = '))\n",
    "print(lcm_1(x, y))"
   ]
  },
  {
   "cell_type": "markdown",
   "metadata": {},
   "source": [
    "**Anagram**\n",
    "- An anagram is a word or phrase formed by rearranging the letters of a different word or phrase, typically using all the original letters exactly once.\n",
    "- Two strings are anagrams if they contain the same characters in the same frequency but arranged differently."
   ]
  },
  {
   "cell_type": "code",
   "execution_count": null,
   "metadata": {},
   "outputs": [],
   "source": [
    "# Check Anagram \n",
    "def is_anagram(str1, str2): \n",
    "    return sorted(str1) == sorted(str2)\n",
    "\n",
    "# Use case \n",
    "str1 = input(\"str1 = \")\n",
    "str2 = input(\"str2 = \")\n",
    "if is_anagram(str1, str2):\n",
    "    print('Anagram')\n",
    "else: \n",
    "    print('Not Anagram')"
   ]
  }
 ],
 "metadata": {
  "kernelspec": {
   "display_name": ".venv",
   "language": "python",
   "name": "python3"
  },
  "language_info": {
   "codemirror_mode": {
    "name": "ipython",
    "version": 3
   },
   "file_extension": ".py",
   "mimetype": "text/x-python",
   "name": "python",
   "nbconvert_exporter": "python",
   "pygments_lexer": "ipython3",
   "version": "3.10.12"
  }
 },
 "nbformat": 4,
 "nbformat_minor": 2
}
