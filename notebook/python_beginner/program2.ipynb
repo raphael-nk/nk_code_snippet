{
 "cells": [
  {
   "cell_type": "markdown",
   "metadata": {},
   "source": [
    "### **PYTHON PROGRAMS FOR BEGINNER - 2**"
   ]
  },
  {
   "cell_type": "markdown",
   "metadata": {},
   "source": [
    "**Binary Search Algorithm**\n",
    "- Binary search is a highly efficient algorithm used to find an element in a sorted list. It works by repeatedly dividing the search interval in half. If the target value is less than the middle element, the search continues on the left half; if it's greater, the search continues on the right half.\n",
    "- Time Complexity: `O(logn)`"
   ]
  },
  {
   "cell_type": "code",
   "execution_count": null,
   "metadata": {},
   "outputs": [],
   "source": [
    "# Binary Search Algorithm \n",
    "def binary_search(arr, x):\n",
    "    low, high = 0, len(arr) - 1\n",
    "    \n",
    "    while low <= high:\n",
    "        mid = (low + high) // 2\n",
    "        if arr[mid] < x: \n",
    "            low = mid + 1\n",
    "        elif arr[mid] > x: \n",
    "            high = mid - 1\n",
    "        else: \n",
    "            return mid\n",
    "    \n",
    "    return -1\n",
    "\n",
    "# Use case \n",
    "arr = [2, 3, 4, 10, 40, 46, 60]\n",
    "x = 10\n",
    "index = binary_search(arr, x)\n",
    "\n",
    "if index != -1: \n",
    "    print(f'Element found at position {index}')\n",
    "else:\n",
    "    print('Element not found')"
   ]
  },
  {
   "cell_type": "markdown",
   "metadata": {},
   "source": [
    "**Linear Search Algorithm**\n",
    "- Linear search is a simple searching algorithm where each element in the list is checked sequentially until the target element is found or the end of the list is reached\n",
    "- Time Complexity: `O(n)`"
   ]
  },
  {
   "cell_type": "code",
   "execution_count": null,
   "metadata": {},
   "outputs": [],
   "source": [
    "# Linear Search Algorithm \n",
    "def linear_search(arr, x):\n",
    "    for i in range(len(arr)):\n",
    "        if arr[i] == x: \n",
    "            return i\n",
    "    return -1\n",
    "\n",
    "# Use case \n",
    "arr = [15, 85, 45, 75, 10, 56, 49]\n",
    "x = int(input('Enter a number: '))\n",
    "index = linear_search(arr, x)\n",
    "if index != -1:\n",
    "    print(f'Element found at position {index}')\n",
    "else: \n",
    "    print('Element not found')"
   ]
  },
  {
   "cell_type": "markdown",
   "metadata": {},
   "source": [
    "**Armstrong Number**\n",
    "- An Armstrong number (also known as a narcissistic number) for a given number of digits is an integer such that the sum of its digits, each raised to the power of the number of digits, equals the number itself.\n",
    "- For a number with `n` digits, Armstrong number `N = d1^N + d2^N + ... + dn^N`, where d1, d2, ..., dn are the digits of the number.\n",
    "- Example: 153 is an Armstrong number because 153 = 1^3 + 5^3 + 3^3"
   ]
  },
  {
   "cell_type": "code",
   "execution_count": null,
   "metadata": {},
   "outputs": [],
   "source": [
    "# Check Armstrong number \n",
    "def is_armstrong(n): \n",
    "    order, tmp, sum = len(str(n)), n, 0\n",
    "    while tmp > 0: \n",
    "        digit = tmp % 10\n",
    "        sum += digit ** order\n",
    "        tmp //= 10\n",
    "    return n == sum\n",
    "\n",
    "# Use case \n",
    "nb = int(input(\"Enter n = \"))\n",
    "if is_armstrong(nb):\n",
    "    print(f'{nb} is an Armstrong number')\n",
    "else: \n",
    "    print(f'{nb} is not an armstrong number')"
   ]
  },
  {
   "cell_type": "code",
   "execution_count": null,
   "metadata": {},
   "outputs": [],
   "source": [
    "# Generate a simple pattern \n",
    "n = int(input(\"Enter a number = \"))\n",
    "for i in range(n):\n",
    "    print('*' * (i + 1))"
   ]
  },
  {
   "cell_type": "code",
   "execution_count": null,
   "metadata": {},
   "outputs": [],
   "source": [
    "# Calculate the Power of a number \n",
    "base = int(input(\"Base = \"))\n",
    "expo = int(input(\"Exponent = \"))\n",
    "result = base ** expo\n",
    "result"
   ]
  }
 ],
 "metadata": {
  "kernelspec": {
   "display_name": "notebook-k3-HoeGS",
   "language": "python",
   "name": "python3"
  },
  "language_info": {
   "codemirror_mode": {
    "name": "ipython",
    "version": 3
   },
   "file_extension": ".py",
   "mimetype": "text/x-python",
   "name": "python",
   "nbconvert_exporter": "python",
   "pygments_lexer": "ipython3",
   "version": "3.10.12"
  }
 },
 "nbformat": 4,
 "nbformat_minor": 2
}
