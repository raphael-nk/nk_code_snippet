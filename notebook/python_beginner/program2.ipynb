{
 "cells": [
  {
   "cell_type": "markdown",
   "metadata": {},
   "source": [
    "### **PYTHON PROGRAMS FOR BEGINNER - 2**"
   ]
  },
  {
   "cell_type": "code",
   "execution_count": null,
   "metadata": {},
   "outputs": [],
   "source": [
    "# Binary Search Program \n",
    "def binary_search(arr, x):\n",
    "    low, high = 0, len(arr) - 1\n",
    "    \n",
    "    while low <= high:\n",
    "        mid = (low + high) // 2\n",
    "        if arr[mid] < x: \n",
    "            low = mid + 1\n",
    "        elif arr[mid] > x: \n",
    "            high = mid - 1\n",
    "        else: \n",
    "            return mid\n",
    "    \n",
    "    return -1\n",
    "\n",
    "# Use case \n",
    "arr = [2, 3, 4, 10, 40, 46, 60]\n",
    "x = 10\n",
    "index = binary_search(arr, x)\n",
    "\n",
    "if index != -1: \n",
    "    print(f'Element found at position {index}')\n",
    "else:\n",
    "    print('Element not found')"
   ]
  },
  {
   "cell_type": "code",
   "execution_count": null,
   "metadata": {},
   "outputs": [],
   "source": [
    "# Linear Search Algorithm \n",
    "def linear_search(arr, x):\n",
    "    for i in range(len(arr)):\n",
    "        if arr[i] == x: \n",
    "            return i\n",
    "    return -1\n",
    "\n",
    "# Use case \n",
    "arr = [15, 85, 45, 75, 10, 56, 49]\n",
    "x = int(input('Enter a number: '))\n",
    "index = linear_search(arr, x)\n",
    "if index != -1:\n",
    "    print(f'Element found at position {index}')\n",
    "else: \n",
    "    print('Element not found')"
   ]
  },
  {
   "cell_type": "code",
   "execution_count": null,
   "metadata": {},
   "outputs": [],
   "source": [
    "# Check Armstrong number \n",
    "def is_armstrong(n): \n",
    "    order, tmp, sum = len(str(n)), n, 0\n",
    "    while tmp > 0: \n",
    "        digit = tmp % 10\n",
    "        sum += digit ** order\n",
    "        tmp //= 10\n",
    "    return n == sum\n",
    "\n",
    "# Use case \n",
    "nb = int(input(\"Enter n = \"))\n",
    "if is_armstrong(nb):\n",
    "    print(f'{nb} is an Armstrong number')\n",
    "else: \n",
    "    print(f'{nb} is not an armstrong number')"
   ]
  },
  {
   "cell_type": "code",
   "execution_count": null,
   "metadata": {},
   "outputs": [],
   "source": [
    "# Generate a simple pattern \n",
    "n = int(input(\"Enter a number = \"))\n",
    "for i in range(n):\n",
    "    print('*' * (i + 1))"
   ]
  },
  {
   "cell_type": "code",
   "execution_count": 13,
   "metadata": {},
   "outputs": [
    {
     "data": {
      "text/plain": [
       "4"
      ]
     },
     "execution_count": 13,
     "metadata": {},
     "output_type": "execute_result"
    }
   ],
   "source": [
    "# Calculate the Power of a number \n",
    "base = int(input(\"Base = \"))\n",
    "expo = int(input(\"Exponent = \"))\n",
    "result = base ** expo\n",
    "result"
   ]
  }
 ],
 "metadata": {
  "kernelspec": {
   "display_name": "notebook-k3-HoeGS",
   "language": "python",
   "name": "python3"
  },
  "language_info": {
   "codemirror_mode": {
    "name": "ipython",
    "version": 3
   },
   "file_extension": ".py",
   "mimetype": "text/x-python",
   "name": "python",
   "nbconvert_exporter": "python",
   "pygments_lexer": "ipython3",
   "version": "3.10.12"
  }
 },
 "nbformat": 4,
 "nbformat_minor": 2
}
