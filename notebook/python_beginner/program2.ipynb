{
 "cells": [
  {
   "cell_type": "markdown",
   "metadata": {},
   "source": [
    "### **PYTHON PROGRAMS FOR BEGINNER - 2**"
   ]
  },
  {
   "cell_type": "markdown",
   "metadata": {},
   "source": [
    "**Binary Search Algorithm**\n",
    "- Binary search is a highly efficient algorithm used to find an element in a sorted list. It works by repeatedly dividing the search interval in half. If the target value is less than the middle element, the search continues on the left half; if it's greater, the search continues on the right half.\n",
    "- Time Complexity: `O(logn)`"
   ]
  },
  {
   "cell_type": "code",
   "execution_count": null,
   "metadata": {},
   "outputs": [],
   "source": [
    "# Binary Search Algorithm \n",
    "def binary_search(arr, x):\n",
    "    low, high = 0, len(arr) - 1\n",
    "    \n",
    "    while low <= high:\n",
    "        mid = (low + high) // 2\n",
    "        if arr[mid] < x: \n",
    "            low = mid + 1\n",
    "        elif arr[mid] > x: \n",
    "            high = mid - 1\n",
    "        else: \n",
    "            return mid\n",
    "    \n",
    "    return -1\n",
    "\n",
    "# Use case \n",
    "arr = [2, 3, 4, 10, 40, 46, 60]\n",
    "x = 10\n",
    "index = binary_search(arr, x)\n",
    "\n",
    "if index != -1: \n",
    "    print(f'Element found at position {index}')\n",
    "else:\n",
    "    print('Element not found')"
   ]
  },
  {
   "cell_type": "markdown",
   "metadata": {},
   "source": [
    "**Linear Search Algorithm**\n",
    "- Linear search is a simple searching algorithm where each element in the list is checked sequentially until the target element is found or the end of the list is reached\n",
    "- Time Complexity: `O(n)`"
   ]
  },
  {
   "cell_type": "code",
   "execution_count": null,
   "metadata": {},
   "outputs": [],
   "source": [
    "# Linear Search Algorithm \n",
    "def linear_search(arr, x):\n",
    "    for i in range(len(arr)):\n",
    "        if arr[i] == x: \n",
    "            return i\n",
    "    return -1\n",
    "\n",
    "# Use case \n",
    "arr = [15, 85, 45, 75, 10, 56, 49]\n",
    "x = int(input('Enter a number: '))\n",
    "index = linear_search(arr, x)\n",
    "if index != -1:\n",
    "    print(f'Element found at position {index}')\n",
    "else: \n",
    "    print('Element not found')"
   ]
  },
  {
   "cell_type": "markdown",
   "metadata": {},
   "source": [
    "**Armstrong Number**\n",
    "- An Armstrong number (also known as a narcissistic number) for a given number of digits is an integer such that the sum of its digits, each raised to the power of the number of digits, equals the number itself.\n",
    "- For a number with `n` digits, Armstrong number `N = d1^N + d2^N + ... + dn^N`, where d1, d2, ..., dn are the digits of the number.\n",
    "- Example: 153 is an Armstrong number because 153 = 1^3 + 5^3 + 3^3"
   ]
  },
  {
   "cell_type": "code",
   "execution_count": null,
   "metadata": {},
   "outputs": [],
   "source": [
    "# Check Armstrong number \n",
    "def is_armstrong(n): \n",
    "    order, tmp, sum = len(str(n)), n, 0\n",
    "    while tmp > 0: \n",
    "        digit = tmp % 10\n",
    "        sum += digit ** order\n",
    "        tmp //= 10\n",
    "    return n == sum\n",
    "\n",
    "# Use case \n",
    "nb = int(input(\"Enter n = \"))\n",
    "if is_armstrong(nb):\n",
    "    print(f'{nb} is an Armstrong number')\n",
    "else: \n",
    "    print(f'{nb} is not an armstrong number')"
   ]
  },
  {
   "cell_type": "code",
   "execution_count": null,
   "metadata": {},
   "outputs": [],
   "source": [
    "# Generate a simple pattern \n",
    "n = int(input(\"Enter a number = \"))\n",
    "for i in range(n):\n",
    "    print('*' * (i + 1))"
   ]
  },
  {
   "cell_type": "code",
   "execution_count": null,
   "metadata": {},
   "outputs": [],
   "source": [
    "# Calculate the Power of a number \n",
    "base = int(input(\"Base = \"))\n",
    "expo = int(input(\"Exponent = \"))\n",
    "result = base ** expo\n",
    "result"
   ]
  },
  {
   "cell_type": "code",
   "execution_count": null,
   "metadata": {},
   "outputs": [],
   "source": [
    "# Display the fibonacci Series \n",
    "def fibonacci_series(n):\n",
    "    a, b = 0, 1\n",
    "    for _ in range(n):\n",
    "        print(a, end=\" \")\n",
    "        a, b = b, a + b\n",
    "    \n",
    "# Use case \n",
    "terms = int(input(\"Term? =\"))\n",
    "fibonacci_series(terms)"
   ]
  },
  {
   "cell_type": "code",
   "execution_count": null,
   "metadata": {},
   "outputs": [],
   "source": [
    "# Merge 2 sorted list \n",
    "l = [1, 3, 5, 7]\n",
    "r = [2, 4, 6, 8]\n",
    "res = sorted(l + r)\n",
    "res"
   ]
  },
  {
   "cell_type": "code",
   "execution_count": null,
   "metadata": {},
   "outputs": [],
   "source": [
    "# Generate a simple Pyramid Pattern \n",
    "n = int(input(\"n? = \"))\n",
    "for i in range(n):\n",
    "    print(\" \"*(n-i-1) + \"*\"*(2*i+1))"
   ]
  },
  {
   "cell_type": "code",
   "execution_count": null,
   "metadata": {},
   "outputs": [],
   "source": [
    "# Generate a list of Prime numbers within a Range \n",
    "def list_prime_numbers(start, end):\n",
    "    primes = []\n",
    "    for i in range(start, end + 1):\n",
    "        if i <= 1:\n",
    "            continue\n",
    "        for j in range(2, n):\n",
    "            if i % j == 0:\n",
    "                break\n",
    "            else: \n",
    "                primes.append(i)\n",
    "    return list(set(primes)) # set() is used to remove duplicates \n",
    "\n",
    "# Use case \n",
    "start = int(input(\"Start n? = \"))\n",
    "end = int(input('End? = '))\n",
    "print(list_prime_numbers(start, end))"
   ]
  },
  {
   "cell_type": "code",
   "execution_count": null,
   "metadata": {},
   "outputs": [],
   "source": [
    "# Area and Parameter of a Rectangle \n",
    "length = float(input('Length = ?'))\n",
    "width = float(input('Width = ?'))\n",
    "area = length * width\n",
    "perimeter = 2 * (length + width)\n",
    "print(f'area: {area} - perimeter: {perimeter}')"
   ]
  },
  {
   "cell_type": "code",
   "execution_count": null,
   "metadata": {},
   "outputs": [],
   "source": [
    "# Find the GCD of Two Number \n",
    "def gcd_(x, y):\n",
    "    while y:\n",
    "        x, y = y, x % y\n",
    "    return x\n",
    "\n",
    "# Use case \n",
    "x = int(input('x = ?'))\n",
    "y = int(input('y = ?'))\n",
    "print(f'gcd({x}, {y}) = {gcd_(x, y)}')"
   ]
  },
  {
   "cell_type": "code",
   "execution_count": null,
   "metadata": {},
   "outputs": [],
   "source": [
    "# Sum of Natural Numbers up to a given number \n",
    "n = int(input('n = ?'))\n",
    "sum = 0\n",
    "for i in range(1, n+1):\n",
    "    sum += i\n",
    "print(sum)"
   ]
  },
  {
   "cell_type": "code",
   "execution_count": null,
   "metadata": {},
   "outputs": [],
   "source": [
    "# Reverse a String \n",
    "str_ = input(\"Enter a word or a sentence: \")\n",
    "rstr_ = str_[::-1]\n",
    "print(rstr_)"
   ]
  },
  {
   "cell_type": "markdown",
   "metadata": {},
   "source": [
    "**Perfect Number**\n",
    "- A perfect number is a positive integer that is equal to the sum of its proper divisors (excluding the number itself)\n",
    "- Example: 6 is the smallest perfect number. Its divisors are 1, 2, 3, and 6. When you exclude 6 and sum the rest, you get: 1 + 2 + 3 = 6"
   ]
  },
  {
   "cell_type": "code",
   "execution_count": 17,
   "metadata": {},
   "outputs": [
    {
     "name": "stdout",
     "output_type": "stream",
     "text": [
      "Perfect number\n"
     ]
    }
   ],
   "source": [
    "# Check if a number is a Perfect Number \n",
    "def is_perfect(n): \n",
    "    sum = 0\n",
    "    for i in range(1, n):\n",
    "        if n % i == 0: \n",
    "            sum += i\n",
    "    return sum == n\n",
    "\n",
    "# Use case \n",
    "n = int(input('n = ?'))\n",
    "if is_perfect(n):\n",
    "    print('Perfect number')\n",
    "else:\n",
    "    print('Not a perfect number')"
   ]
  },
  {
   "cell_type": "markdown",
   "metadata": {},
   "source": [
    "**Perfect Square**\n",
    "- A perfect square is an integer that is the square of another integer. In other words, if you multiply an integer by itself, the result is a perfect square.\n",
    "- Example: 9 is a perfect square because it is 3 * 3 = 9"
   ]
  },
  {
   "cell_type": "code",
   "execution_count": null,
   "metadata": {},
   "outputs": [],
   "source": [
    "# Check if a number is a perfect square \n",
    "from math import isqrt\n",
    "\n",
    "def is_perfect_square(n):\n",
    "    root = isqrt(n)\n",
    "    return root * root == n\n",
    "\n",
    "# Use case \n",
    "n = int(input('Enter n = ?'))\n",
    "if is_perfect_square(n):\n",
    "    print('Perfect Square')\n",
    "else: \n",
    "    print('Not a perfect square')"
   ]
  }
 ],
 "metadata": {
  "kernelspec": {
   "display_name": "notebook-k3-HoeGS",
   "language": "python",
   "name": "python3"
  },
  "language_info": {
   "codemirror_mode": {
    "name": "ipython",
    "version": 3
   },
   "file_extension": ".py",
   "mimetype": "text/x-python",
   "name": "python",
   "nbconvert_exporter": "python",
   "pygments_lexer": "ipython3",
   "version": "3.10.12"
  }
 },
 "nbformat": 4,
 "nbformat_minor": 2
}
