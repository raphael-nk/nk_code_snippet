{
 "cells": [
  {
   "cell_type": "markdown",
   "metadata": {},
   "source": [
    "### **STRING OPERATIONS**"
   ]
  },
  {
   "cell_type": "markdown",
   "metadata": {},
   "source": [
    "#### **BASIC OPERATIONS**"
   ]
  },
  {
   "cell_type": "code",
   "execution_count": null,
   "metadata": {},
   "outputs": [],
   "source": [
    "a = \"Hello \"\n",
    "b = \"World\"\n",
    "\n",
    "# Concatenation\n",
    "c = a + b\n",
    "\n",
    "# Repeation\n",
    "d = b * 3\n",
    "\n",
    "# Length\n",
    "length = len(c)\n",
    "\n",
    "# Index\n",
    "index = c[0]\n",
    "\n",
    "# String Slicing\n",
    "slicing = c[0:5]\n",
    "\n",
    "# String format \n",
    "old_format = \"Hello %s\" % b\n",
    "new_format = \"Hello {}\".format(b)\n",
    "f_string = f\"Hello {b}\"\n",
    "\n"
   ]
  },
  {
   "cell_type": "markdown",
   "metadata": {},
   "source": [
    "### **STRING METHODS**"
   ]
  },
  {
   "cell_type": "code",
   "execution_count": 1,
   "metadata": {},
   "outputs": [
    {
     "data": {
      "text/plain": [
       "2"
      ]
     },
     "execution_count": 1,
     "metadata": {},
     "output_type": "execute_result"
    }
   ],
   "source": [
    "str = \"Hello World\"\n",
    "str.lower() # \"hello world\"\n",
    "str.upper() # \"HELLO WORLD\"\n",
    "str.title() # \"Hello World\"\n",
    "str.swapcase() # \"hELLO wORLD\"\n",
    "str.capitalize() # \"Hello world\"\n",
    "\n",
    "str2 = \" hello \"\n",
    "str2.strip() # \"hello\"\n",
    "str2.lstrip() # \"hello \"\n",
    "str2.rstrip() # \" hello\"\n",
    "str2.replace(\"hello\", \"goodbye\") # \" goodbye \"\n",
    "str2.count(\"l\") # 2\n",
    "\n"
   ]
  }
 ],
 "metadata": {
  "kernelspec": {
   "display_name": "notebook-k3-HoeGS",
   "language": "python",
   "name": "python3"
  },
  "language_info": {
   "codemirror_mode": {
    "name": "ipython",
    "version": 3
   },
   "file_extension": ".py",
   "mimetype": "text/x-python",
   "name": "python",
   "nbconvert_exporter": "python",
   "pygments_lexer": "ipython3",
   "version": "3.10.12"
  }
 },
 "nbformat": 4,
 "nbformat_minor": 2
}
