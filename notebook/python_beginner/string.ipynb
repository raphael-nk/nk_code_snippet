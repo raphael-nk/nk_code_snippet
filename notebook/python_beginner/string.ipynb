{
 "cells": [
  {
   "cell_type": "markdown",
   "metadata": {},
   "source": [
    "### **STRING OPERATIONS**"
   ]
  },
  {
   "cell_type": "markdown",
   "metadata": {},
   "source": [
    "#### **BASIC OPERATIONS**"
   ]
  },
  {
   "cell_type": "code",
   "execution_count": null,
   "metadata": {},
   "outputs": [],
   "source": [
    "a = \"Hello \"\n",
    "b = \"World\"\n",
    "\n",
    "# Concatenation\n",
    "c = a + b\n",
    "\n",
    "# Repeation\n",
    "d = b * 3\n",
    "\n",
    "# Length\n",
    "length = len(c)\n",
    "\n",
    "# Index\n",
    "index = c[0]\n",
    "\n",
    "# String Slicing\n",
    "slicing = c[0:5]\n",
    "\n",
    "# String format \n",
    "old_format = \"Hello %s\" % b\n",
    "new_format = \"Hello {}\".format(b)\n",
    "f_string = f\"Hello {b}\"\n",
    "\n"
   ]
  },
  {
   "cell_type": "markdown",
   "metadata": {},
   "source": [
    "### **STRING METHODS**"
   ]
  },
  {
   "cell_type": "code",
   "execution_count": null,
   "metadata": {},
   "outputs": [],
   "source": [
    "# CASE CONVERSION \n",
    "str = \"Hello World\"\n",
    "str.lower()         # \"hello world\"\n",
    "str.upper()         # \"HELLO WORLD\"\n",
    "str.title()         # \"Hello World\"\n",
    "str.swapcase()      # \"hELLO wORLD\"\n",
    "str.capitalize()    # \"Hello world\""
   ]
  },
  {
   "cell_type": "code",
   "execution_count": null,
   "metadata": {},
   "outputs": [],
   "source": [
    "# TRIMMING & STRIPPING \n",
    "str2 = \" hello \"\n",
    "str2.strip()                        # \"hello\"\n",
    "str2.lstrip()                       # \"hello \"\n",
    "str2.rstrip()                       # \" hello\"\n",
    "str2.replace(\"hello\", \"goodbye\")    # \" goodbye \"\n",
    "str2.count(\"l\")                     # 2"
   ]
  },
  {
   "cell_type": "code",
   "execution_count": null,
   "metadata": {},
   "outputs": [],
   "source": [
    "# ALIGNMENT \n",
    "# str.alignment_method(width, fillchar)\n",
    "str3 = \"hello\"\n",
    "str3.center(10, '-')  # \"---hello---\"\n",
    "str3.ljust(10)        # \"hello      \"\n",
    "str3.rjust(10)        # \"      hello\"\n",
    "str3.zfill(10)        # \"000000hello\""
   ]
  },
  {
   "cell_type": "code",
   "execution_count": null,
   "metadata": {},
   "outputs": [],
   "source": [
    "# SEARCHING \n",
    "# str.seach_method(sub)\n",
    "str4 = \"hello world\"\n",
    "str4.find(\"world\")          # 6\n",
    "str4.index(\"world\")         # 6\n",
    "str4.startswith(\"hello\")    # True\n",
    "str4.endswith(\"world\")      # True\n",
    "str4.isalpha()              # False\n",
    "str4.isalnum()              # True\n",
    "str4.islower()              # False"
   ]
  },
  {
   "cell_type": "code",
   "execution_count": null,
   "metadata": {},
   "outputs": [],
   "source": [
    "# SUBSTITUTION \n",
    "str5 = \"hello world\"\n",
    "str5.replace(\"hello\", \"goodbye\")    # \"goodbye world\"\n",
    "str5.split()                        # [\"hello\", \"world\"]\n",
    "\"Hello, World\".split(\",\")           # [\"Hello\", \"World\"]\n",
    "\n",
    "' '.join([\"hello\", \"world\"])        # \"hello world\"\n",
    "str5.partition(\" \")                 # (\"hello\", \" \", \"world\")"
   ]
  },
  {
   "cell_type": "code",
   "execution_count": null,
   "metadata": {},
   "outputs": [],
   "source": [
    "# CHECKING PROPERTIES \n",
    "str6 = \"hello\"\n",
    "str6.isalpha()              # False\n",
    "str6.isalnum()              # True\n",
    "str6.islower()              # False\n",
    "str6.isspace()              # False\n",
    "str6.isupper()              # False\n",
    "str6.istitle()              # False\n",
    "str6.isnumeric()            # False\n",
    "str6.isdecimal()            # False\n",
    "str6.isidentifier()         # False\n",
    "str6.isprintable()          # True\n",
    "str6.isascii()              # True\n",
    "str6.startswith(\"h\")        # True\n",
    "str6.endswith(\"o\")          # True"
   ]
  },
  {
   "cell_type": "code",
   "execution_count": null,
   "metadata": {},
   "outputs": [],
   "source": [
    "# ENCODING AND DECODING \n",
    "str7 = \"hello\"\n",
    "str7.encode(\"utf-8\")        # b'hello'\n",
    "b'hello'.decode(\"utf-8\")    # \"hello\""
   ]
  },
  {
   "cell_type": "code",
   "execution_count": null,
   "metadata": {},
   "outputs": [],
   "source": [
    "# MISCELLANEOUS \n",
    "\"42\".zfill(5)                           # \"00042\"\n",
    "\"a\\tb\\tc\".expandtabs(4)                 # 'a    b   c' \n",
    "\"The {} is {}\".format(\"sky\", \"blue\")    # 'The sky is blue'"
   ]
  },
  {
   "cell_type": "markdown",
   "metadata": {},
   "source": [
    "**ESCAPING CHARACTERS** \n",
    "- `\\n`: New Line \n",
    "- `\\t`: Tab \n",
    "- `\\'`: Single quote \n",
    "- `\\\\`: Backslash"
   ]
  },
  {
   "cell_type": "code",
   "execution_count": null,
   "metadata": {},
   "outputs": [],
   "source": [
    "# Raw Strings (ignore escape characters)\n",
    "r\"Newline \\n and tab \\t are ignored\"  # Output: \"Newline \\n and tab \\t are ignored\""
   ]
  }
 ],
 "metadata": {
  "kernelspec": {
   "display_name": "notebook-k3-HoeGS",
   "language": "python",
   "name": "python3"
  },
  "language_info": {
   "codemirror_mode": {
    "name": "ipython",
    "version": 3
   },
   "file_extension": ".py",
   "mimetype": "text/x-python",
   "name": "python",
   "nbconvert_exporter": "python",
   "pygments_lexer": "ipython3",
   "version": "3.10.12"
  }
 },
 "nbformat": 4,
 "nbformat_minor": 2
}
