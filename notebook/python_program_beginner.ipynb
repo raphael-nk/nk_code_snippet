{
 "cells": [
  {
   "cell_type": "markdown",
   "metadata": {},
   "source": [
    "### PYTHON PROGRAMS FOR BEGINNER"
   ]
  },
  {
   "cell_type": "code",
   "execution_count": null,
   "metadata": {},
   "outputs": [],
   "source": [
    "# Hello World  \n",
    "print(\"Hello World\")"
   ]
  },
  {
   "cell_type": "code",
   "execution_count": null,
   "metadata": {},
   "outputs": [],
   "source": [
    "# Simple Operation\n",
    "a = int(input(\"a = \"))\n",
    "b = int(input(\"b = \"))\n",
    "sum = a + b\n",
    "substract = a - b\n",
    "product = a * b\n",
    "divide = a / b\n",
    "modulo = a % b\n",
    "\n",
    "# --- Display result \n",
    "print(f\"{a} + {b} = {sum}\")                     # Display variable using f-string\n",
    "print(str(a)+\" - \"+str(b)+\" = \"+str(substract)) # Display variable using concatenation ( + )\n",
    "print(\"%d * %d = %d\" % (a,b,product))           # Display variable using format with %\n",
    "print(\"{} / {} = {}\".format(a,b,divide))        # Display variable using format with {}\n",
    "print(\"Modulo =\", modulo)"
   ]
  },
  {
   "cell_type": "code",
   "execution_count": null,
   "metadata": {},
   "outputs": [],
   "source": [
    "# Factorial \n",
    "def factorial(n):\n",
    "    if n == 0:\n",
    "        return 1\n",
    "    else:\n",
    "        return n * factorial(n-1)\n",
    "    \n",
    "# use case\n",
    "n = int(input(\"Enter a number: \"))\n",
    "print(\"Factorial of\", n, \"is\", factorial(n))"
   ]
  },
  {
   "cell_type": "code",
   "execution_count": null,
   "metadata": {},
   "outputs": [],
   "source": [
    "# Fibonacci sequence\n",
    "def fibonacci(n):\n",
    "    if n == 0 or n == 1:\n",
    "        return 1\n",
    "    else:\n",
    "        return fibonacci(n-1) + fibonacci(n-2)\n",
    "    \n",
    "# use case\n",
    "n = int(input(\"Enter a number: \"))\n",
    "print(\"Fibonacci sequence:\")\n",
    "for i in range(n):\n",
    "    print(fibonacci(i))"
   ]
  },
  {
   "cell_type": "code",
   "execution_count": null,
   "metadata": {},
   "outputs": [],
   "source": [
    "# Check for Prime Number\n",
    "def is_prime(n):\n",
    "    if n <= 1:\n",
    "        return False\n",
    "    for i in range(2, int(n**0.5) + 1):\n",
    "        if n % i == 0:\n",
    "            return False\n",
    "    return True\n",
    "\n",
    "# use case\n",
    "n = int(input(\"Enter a number: \"))\n",
    "if is_prime(n):\n",
    "    print(n, \"is a prime number\")\n",
    "else:\n",
    "    print(n, \"is not a prime number\")"
   ]
  }
 ],
 "metadata": {
  "kernelspec": {
   "display_name": ".venv",
   "language": "python",
   "name": "python3"
  },
  "language_info": {
   "codemirror_mode": {
    "name": "ipython",
    "version": 3
   },
   "file_extension": ".py",
   "mimetype": "text/x-python",
   "name": "python",
   "nbconvert_exporter": "python",
   "pygments_lexer": "ipython3",
   "version": "3.10.12"
  }
 },
 "nbformat": 4,
 "nbformat_minor": 2
}
